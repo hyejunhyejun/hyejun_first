{
  "nbformat": 4,
  "nbformat_minor": 0,
  "metadata": {
    "colab": {
      "provenance": [],
      "authorship_tag": "ABX9TyMn77aOzc8OXknyUmFEXaAM",
      "include_colab_link": true
    },
    "kernelspec": {
      "name": "python3",
      "display_name": "Python 3"
    },
    "language_info": {
      "name": "python"
    }
  },
  "cells": [
    {
      "cell_type": "markdown",
      "metadata": {
        "id": "view-in-github",
        "colab_type": "text"
      },
      "source": [
        "<a href=\"https://colab.research.google.com/github/hyejunhyejun/hyejun_first/blob/main/250715.ipynb\" target=\"_parent\"><img src=\"https://colab.research.google.com/assets/colab-badge.svg\" alt=\"Open In Colab\"/></a>"
      ]
    },
    {
      "cell_type": "code",
      "execution_count": 16,
      "metadata": {
        "colab": {
          "base_uri": "https://localhost:8080/"
        },
        "id": "t8HQIu6FQjjw",
        "outputId": "38085b6c-b2c8-43a4-b8b7-4e6ae221b520"
      },
      "outputs": [
        {
          "output_type": "stream",
          "name": "stdout",
          "text": [
            "Hello, Colab!\n",
            "Python 데이터 분석을 시작합니다!\n",
            "안녕하세요, 데이터 분석가님!\n"
          ]
        }
      ],
      "source": [
        "print(\"Hello, Colab!\")\n",
        "print(\"Python 데이터 분석을 시작합니다!\")\n",
        "\n",
        "# 변수 선언\n",
        "name = \"데이터 분석가\"\n",
        "print(f\"안녕하세요, {name}님!\")\n",
        "\n",
        "# 간단한 계산\n",
        "result = 10 + 20"
      ]
    },
    {
      "cell_type": "markdown",
      "source": [
        "# ***lec***\n",
        "\n",
        "마크다운 : #으로 size 조절"
      ],
      "metadata": {
        "id": "GcRdoR-KUgKC"
      }
    },
    {
      "cell_type": "code",
      "source": [],
      "metadata": {
        "id": "1P5GrWsrS9jS"
      },
      "execution_count": 16,
      "outputs": []
    },
    {
      "cell_type": "code",
      "metadata": {
        "colab": {
          "base_uri": "https://localhost:8080/"
        },
        "id": "b535d162",
        "outputId": "f6b4101e-bb82-4ee4-c767-dd0092062f42"
      },
      "source": [
        "# 여기에 계산하고 싶은 내용을 입력하세요. 예: 10 + 5 * 2\n",
        "calculation = 10 + 5 * 2\n",
        "print(f\"계산 결과: {calculation}\")"
      ],
      "execution_count": 17,
      "outputs": [
        {
          "output_type": "stream",
          "name": "stdout",
          "text": [
            "계산 결과: 20\n"
          ]
        }
      ]
    },
    {
      "cell_type": "code",
      "metadata": {
        "colab": {
          "base_uri": "https://localhost:8080/"
        },
        "id": "f134ce1d",
        "outputId": "a7b27208-bc4f-45ca-f6eb-0fac97eacfec"
      },
      "source": [
        "def calculator(num1, operator, num2):\n",
        "    \"\"\"\n",
        "    간단한 계산기 함수\n",
        "\n",
        "    Args:\n",
        "        num1: 첫 번째 숫자\n",
        "        operator: 연산자 (+, -, *, /)\n",
        "        num2: 두 번째 숫자\n",
        "\n",
        "    Returns:\n",
        "        계산 결과\n",
        "    \"\"\"\n",
        "    if operator == '+':\n",
        "        return num1 + num2\n",
        "    elif operator == '-':\n",
        "        return num1 - num2\n",
        "    elif operator == '*':\n",
        "        return num1 * num2\n",
        "    elif operator == '/':\n",
        "        if num2 != 0:\n",
        "            return num1 / num2\n",
        "        else:\n",
        "            return \"오류: 0으로 나눌 수 없습니다.\"\n",
        "    else:\n",
        "        return \"오류: 지원하지 않는 연산자입니다.\"\n",
        "\n",
        "# 사용 예시\n",
        "num1 = float(input(\"첫 번째 숫자를 입력하세요: \"))\n",
        "operator = input(\"연산자를 입력하세요 (+, -, *, /): \")\n",
        "num2 = float(input(\"두 번째 숫자를 입력하세요: \"))\n",
        "\n",
        "result = calculator(num1, operator, num2)\n",
        "print(f\"계산 결과: {result}\")"
      ],
      "execution_count": 18,
      "outputs": [
        {
          "output_type": "stream",
          "name": "stdout",
          "text": [
            "첫 번째 숫자를 입력하세요: 1\n",
            "연산자를 입력하세요 (+, -, *, /): +\n",
            "두 번째 숫자를 입력하세요: 3\n",
            "계산 결과: 4.0\n"
          ]
        }
      ]
    }
  ]
}